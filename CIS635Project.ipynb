{
  "nbformat": 4,
  "nbformat_minor": 0,
  "metadata": {
    "colab": {
      "provenance": [],
      "gpuType": "T4"
    },
    "kernelspec": {
      "name": "python3",
      "display_name": "Python 3"
    },
    "language_info": {
      "name": "python"
    },
    "accelerator": "GPU"
  },
  "cells": [
    {
      "cell_type": "code",
      "execution_count": 1,
      "metadata": {
        "id": "VmI3cojB6c4Q"
      },
      "outputs": [],
      "source": [
        "import pandas as pd\n",
        "import numpy as np\n",
        "from matplotlib import pyplot as plt"
      ]
    },
    {
      "cell_type": "code",
      "source": [
        "#data_2013 = pd.read_csv('NIJ2013_JAN01_DEC31.xlsx')\n",
        "#data_2014 = pd.read_csv ('NIJ2014_JAN01_DEC31.xlsx')\n",
        "#data_2015 = pd.read_csv('NIJ2015_JAN01_DEC31.xlsx')\n",
        "\n",
        "with open('NIJ2013_JAN01_DEC31.xlsx', 'rb') as file: content = file.read().decode('utf-8', errors='replace')\n",
        "with open('NIJ2014_JAN01_DEC31.xlsx', 'rb') as file: content = file.read().decode('utf-8', errors='replace')\n",
        "with open('NIJ2015_JAN01_DEC31.xlsx', 'rb') as file: content = file.read().decode('utf-8', errors='replace')"
      ],
      "metadata": {
        "id": "pq_BITBGav4L"
      },
      "execution_count": 2,
      "outputs": []
    },
    {
      "cell_type": "code",
      "source": [
        "# Replace 'MembershipProduct_q1-2019-2023.xlsx' with the actual path to your Excel file\n",
        "path1 = 'NIJ2013_JAN01_DEC31.xlsx'\n",
        "path2 = 'NIJ2014_JAN01_DEC31.xlsx'\n",
        "path3 = 'NIJ2015_JAN01_DEC31.xlsx'\n",
        "# Read the Excel file using pandas\n",
        "df1 = pd.read_excel(path1)\n",
        "df2 = pd.read_excel(path2)\n",
        "df3 = pd.read_excel(path3)"
      ],
      "metadata": {
        "id": "NYWULQ_VeX-P"
      },
      "execution_count": 3,
      "outputs": []
    },
    {
      "cell_type": "code",
      "source": [
        "#Concatenating databases vertically\n",
        "df = pd.concat([df1, df2, df3], ignore_index=True)\n",
        "df.shape"
      ],
      "metadata": {
        "colab": {
          "base_uri": "https://localhost:8080/"
        },
        "id": "edklNd9igXix",
        "outputId": "1ea180f0-39de-49e7-dfaf-eaaa2af4d755"
      },
      "execution_count": 4,
      "outputs": [
        {
          "output_type": "execute_result",
          "data": {
            "text/plain": [
              "(571053, 8)"
            ]
          },
          "metadata": {},
          "execution_count": 4
        }
      ]
    },
    {
      "cell_type": "code",
      "source": [
        "from sklearn.preprocessing import LabelEncoder\n",
        "# Initialize LabelEncoder\n",
        "label_encoder = LabelEncoder()\n",
        "\n",
        "# Apply LabelEncoder to 'CATEGORY' and 'CALL GROUPS'\n",
        "df['CATEGORY'] = label_encoder.fit_transform(df['CATEGORY'])\n",
        "df['CALL GROUPS'] = label_encoder.fit_transform(df['CALL GROUPS'])"
      ],
      "metadata": {
        "id": "tTMQlY8xpqPC"
      },
      "execution_count": 5,
      "outputs": []
    },
    {
      "cell_type": "code",
      "source": [
        "# Finding duplicated rows\n",
        "df.duplicated().sum()"
      ],
      "metadata": {
        "colab": {
          "base_uri": "https://localhost:8080/"
        },
        "id": "6SqFusPop0Z3",
        "outputId": "7eb4d5ed-ce7b-437b-c4f5-1d575f7d23b4"
      },
      "execution_count": 6,
      "outputs": [
        {
          "output_type": "execute_result",
          "data": {
            "text/plain": [
              "7890"
            ]
          },
          "metadata": {},
          "execution_count": 6
        }
      ]
    },
    {
      "cell_type": "code",
      "source": [
        "# Removing duplicated rows\n",
        "df.drop_duplicates(inplace = True)\n",
        "df.shape"
      ],
      "metadata": {
        "colab": {
          "base_uri": "https://localhost:8080/"
        },
        "id": "yQEqVYsgsXJx",
        "outputId": "15ee3130-619b-4da4-813c-5fde1f67a081"
      },
      "execution_count": 7,
      "outputs": [
        {
          "output_type": "execute_result",
          "data": {
            "text/plain": [
              "(563163, 8)"
            ]
          },
          "metadata": {},
          "execution_count": 7
        }
      ]
    },
    {
      "cell_type": "code",
      "source": [
        "# Removing some specific columns\n",
        "columns_to_remove = ['final_case_type', 'CASE DESC']\n",
        "\n",
        "df.drop(columns=columns_to_remove, inplace = True)"
      ],
      "metadata": {
        "id": "8HGqoyRPtDd8"
      },
      "execution_count": 8,
      "outputs": []
    },
    {
      "cell_type": "code",
      "source": [
        "#Converting occ_date to datetime\n",
        "df['occ_date'] = pd.to_datetime(df['occ_date'])"
      ],
      "metadata": {
        "id": "gCQo-sdywJCf"
      },
      "execution_count": 9,
      "outputs": []
    },
    {
      "cell_type": "code",
      "source": [
        "print(df.dtypes)"
      ],
      "metadata": {
        "colab": {
          "base_uri": "https://localhost:8080/"
        },
        "id": "cOl3G5gCyaw8",
        "outputId": "baf65c1c-d519-4b18-fd9e-84c4fe267d26"
      },
      "execution_count": 10,
      "outputs": [
        {
          "output_type": "stream",
          "name": "stdout",
          "text": [
            "CATEGORY                 int64\n",
            "CALL GROUPS              int64\n",
            "occ_date        datetime64[ns]\n",
            "x_coordinate             int64\n",
            "y_coordinate             int64\n",
            "census_tract           float64\n",
            "dtype: object\n"
          ]
        }
      ]
    }
  ]
}